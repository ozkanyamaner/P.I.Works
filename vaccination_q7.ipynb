{
 "cells": [
  {
   "cell_type": "code",
   "execution_count": 5,
   "metadata": {},
   "outputs": [],
   "source": [
    "import matplotlib.pyplot as plt\n",
    "import numpy as np\n",
    "import pandas as pd"
   ]
  },
  {
   "cell_type": "code",
   "execution_count": 6,
   "metadata": {},
   "outputs": [
    {
     "name": "stdout",
     "output_type": "stream",
     "text": [
      "Total vaccinations on 1/6/2021:  1485255.0\n"
     ]
    }
   ],
   "source": [
    "data = pd.read_csv('country_vaccination_stats.csv')\n",
    "\n",
    "# Filling for the missing values\n",
    "data['daily_vaccinations'] = data['daily_vaccinations'].fillna(data.groupby('country')['daily_vaccinations'].transform('min'))\n",
    "\n",
    "# Summing all daily vaccinations on 1/6/2021\n",
    "total_vaccinations = data.loc[data['date'] == '1/6/2021', 'daily_vaccinations'].sum()\n",
    "print('Total vaccinations on 1/6/2021: ', total_vaccinations)"
   ]
  }
 ],
 "metadata": {
  "kernelspec": {
   "display_name": "assn2",
   "language": "python",
   "name": "python3"
  },
  "language_info": {
   "codemirror_mode": {
    "name": "ipython",
    "version": 3
   },
   "file_extension": ".py",
   "mimetype": "text/x-python",
   "name": "python",
   "nbconvert_exporter": "python",
   "pygments_lexer": "ipython3",
   "version": "3.7.10"
  },
  "orig_nbformat": 4
 },
 "nbformat": 4,
 "nbformat_minor": 2
}
