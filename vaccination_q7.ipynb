{
 "cells": [
  {
   "cell_type": "code",
   "execution_count": null,
   "metadata": {},
   "outputs": [],
   "source": [
    "import matplotlib.pyplot as plt\n",
    "import numpy as np\n",
    "import pandas as pd"
   ]
  },
  {
   "cell_type": "code",
   "execution_count": null,
   "metadata": {},
   "outputs": [],
   "source": [
    "data = pd.read_csv('country_vaccination_stats.csv')\n",
    "\n",
    "data['daily_vaccinations'] = data['daily_vaccinations'].fillna(data.groupby('country')['daily_vaccinations'].transform('min'))\n",
    "\n",
    "total_vaccinations = data.loc[data['date'] == '1/6/2021', 'total_vaccinations'].sum()\n",
    "print('Total vaccinations on 1/6/2021: ', total_vaccinations)"
   ]
  }
 ],
 "metadata": {
  "language_info": {
   "name": "python"
  },
  "orig_nbformat": 4
 },
 "nbformat": 4,
 "nbformat_minor": 2
}
