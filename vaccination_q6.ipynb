{
 "cells": [
  {
   "cell_type": "code",
   "execution_count": 4,
   "metadata": {},
   "outputs": [],
   "source": [
    "import matplotlib.pyplot as plt\n",
    "import numpy as np\n",
    "import pandas as pd"
   ]
  },
  {
   "cell_type": "code",
   "execution_count": 5,
   "metadata": {},
   "outputs": [
    {
     "name": "stdout",
     "output_type": "stream",
     "text": [
      "country\n",
      "United States    378253.0\n",
      "China            276786.0\n",
      "India            173922.0\n",
      "Name: daily_vaccinations, dtype: float64\n"
     ]
    }
   ],
   "source": [
    "data = pd.read_csv('country_vaccination_stats.csv')\n",
    "\n",
    "data['daily_vaccinations'] = data['daily_vaccinations'].fillna(data.groupby('country')['daily_vaccinations'].transform('min'))\n",
    "\n",
    "\n",
    "daily_vaccinations_median = data.groupby('country')['daily_vaccinations'].median()\n",
    "\n",
    "top_3 = daily_vaccinations_median.nlargest(3)\n",
    "print(top_3)\n"
   ]
  }
 ],
 "metadata": {
  "kernelspec": {
   "display_name": "assn2",
   "language": "python",
   "name": "python3"
  },
  "language_info": {
   "codemirror_mode": {
    "name": "ipython",
    "version": 3
   },
   "file_extension": ".py",
   "mimetype": "text/x-python",
   "name": "python",
   "nbconvert_exporter": "python",
   "pygments_lexer": "ipython3",
   "version": "3.7.10"
  },
  "orig_nbformat": 4
 },
 "nbformat": 4,
 "nbformat_minor": 2
}
